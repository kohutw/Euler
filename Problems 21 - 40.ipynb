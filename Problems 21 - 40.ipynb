{
 "cells": [
  {
   "cell_type": "markdown",
   "metadata": {},
   "source": [
    "### Problem 21\n",
    "\n",
    "Let d(n) be defined as the sum of proper divisors of n (numbers less than n which divide evenly into n).\n",
    "If d(a) = b and d(b) = a, where a ≠ b, then a and b are an amicable pair and each of a and b are called amicable numbers.\n",
    "\n",
    "For example, the proper divisors of 220 are 1, 2, 4, 5, 10, 11, 20, 22, 44, 55 and 110; therefore d(220) = 284. The proper divisors of 284 are 1, 2, 4, 71 and 142; so d(284) = 220.\n",
    "\n",
    "Evaluate the sum of all the amicable numbers under 10000."
   ]
  },
  {
   "cell_type": "code",
   "execution_count": 2,
   "metadata": {},
   "outputs": [
    {
     "data": {
      "text/plain": [
       "31626"
      ]
     },
     "execution_count": 2,
     "metadata": {},
     "output_type": "execute_result"
    }
   ],
   "source": [
    "tab = [False]*10001\n",
    "for i in range(1, 10001):\n",
    "    suma = 0\n",
    "    for j in range(1, i):\n",
    "        if i%j == 0:\n",
    "            suma += j\n",
    "    suma2 = 0\n",
    "    if suma > 0 and suma != i:\n",
    "        suma2 = 0\n",
    "        for j in range(1, suma):\n",
    "            if suma%j == 0:\n",
    "                suma2 += j\n",
    "    if suma2 == i:\n",
    "        tab[suma] = tab[suma2] = True\n",
    "res = 0\n",
    "for i in range(1, 10001re):\n",
    "    if tab[i]:\n",
    "        res += i\n",
    "res\n",
    "        "
   ]
  },
  {
   "cell_type": "markdown",
   "metadata": {
    "collapsed": true
   },
   "source": [
    "### Problem 22\n",
    "\n",
    "Using names.txt (right click and 'Save Link/Target As...'), a 46K text file containing over five-thousand first names, begin by sorting it into alphabetical order. Then working out the alphabetical value for each name, multiply this value by its alphabetical position in the list to obtain a name score.\n",
    "\n",
    "For example, when the list is sorted into alphabetical order, COLIN, which is worth 3 + 15 + 12 + 9 + 14 = 53, is the 938th name in the list. So, COLIN would obtain a score of 938 × 53 = 49714.\n",
    "\n",
    "What is the total of all the name scores in the file?\n"
   ]
  },
  {
   "cell_type": "code",
   "execution_count": 207,
   "metadata": {},
   "outputs": [
    {
     "data": {
      "text/plain": [
       "871198282"
      ]
     },
     "execution_count": 207,
     "metadata": {},
     "output_type": "execute_result"
    }
   ],
   "source": [
    "with open (\"p022_names.txt\", \"r\") as myfile:\n",
    "    names=myfile.readlines()\n",
    "names = sorted(names[0].split(\",\"))\n",
    "wynik = 0\n",
    "for i in range(len(names)):\n",
    "    names[i] = names[i][1:-1]\n",
    "    suma = 0\n",
    "    for j in names[i]:\n",
    "        suma += ord(j)-64\n",
    "    wynik += (i+1)*suma\n",
    "wynik"
   ]
  },
  {
   "cell_type": "markdown",
   "metadata": {},
   "source": [
    "### Problem 23\n",
    "\n",
    "A perfect number is a number for which the sum of its proper divisors is exactly equal to the number. For example, the sum of the proper divisors of 28 would be 1 + 2 + 4 + 7 + 14 = 28, which means that 28 is a perfect number.\n",
    "\n",
    "A number n is called deficient if the sum of its proper divisors is less than n and it is called abundant if this sum exceeds n.\n",
    "\n",
    "As 12 is the smallest abundant number, 1 + 2 + 3 + 4 + 6 = 16, the smallest number that can be written as the sum of two abundant numbers is 24. By mathematical analysis, it can be shown that all integers greater than 28123 can be written as the sum of two abundant numbers. However, this upper limit cannot be reduced any further by analysis even though it is known that the greatest number that cannot be expressed as the sum of two abundant numbers is less than this limit.\n",
    "\n",
    "Find the sum of all the positive integers which cannot be written as the sum of two abundant numbers.\n"
   ]
  },
  {
   "cell_type": "code",
   "execution_count": 55,
   "metadata": {},
   "outputs": [
    {
     "data": {
      "text/plain": [
       "4179871"
      ]
     },
     "execution_count": 55,
     "metadata": {},
     "output_type": "execute_result"
    }
   ],
   "source": [
    "abundant = set()\n",
    "canbe = [False]*28124\n",
    "for i in range(1, 28124):\n",
    "    suma = 0\n",
    "    for j in range(1, i):\n",
    "        if i%j == 0:\n",
    "            suma += j\n",
    "    if suma > i:\n",
    "        abundant.add(i)\n",
    "for i in abundant:\n",
    "    for j in abundant:\n",
    "        if i+j < 28124:\n",
    "            canbe[i+j] = True\n",
    "wynik = 0\n",
    "for i in range(1, 28124):\n",
    "    if not canbe[i]:\n",
    "        wynik += i\n",
    "wynik"
   ]
  },
  {
   "cell_type": "markdown",
   "metadata": {},
   "source": [
    "### Problem 24\n",
    "\n",
    "A permutation is an ordered arrangement of objects. For example, 3124 is one possible permutation of the digits 1, 2, 3 and 4. If all of the permutations are listed numerically or alphabetically, we call it lexicographic order. The lexicographic permutations of 0, 1 and 2 are:\n",
    "\n",
    "012   021   102   120   201   210\n",
    "\n",
    "What is the millionth lexicographic permutation of the digits 0, 1, 2, 3, 4, 5, 6, 7, 8 and 9?\n"
   ]
  },
  {
   "cell_type": "code",
   "execution_count": 103,
   "metadata": {},
   "outputs": [
    {
     "data": {
      "text/plain": [
       "[2, 7, 8, 3, 9, 1, 5, 4, 6, 0]"
      ]
     },
     "execution_count": 103,
     "metadata": {},
     "output_type": "execute_result"
    }
   ],
   "source": [
    "tab = [0,1,2,3,4,5,6,7,8,9]\n",
    "count = 1\n",
    "while count < 1000000:\n",
    "    i = 9\n",
    "    while tab[i-1] > tab[i]:\n",
    "        i = i-1\n",
    "    j = i-1\n",
    "    while j < 9 and tab[j+1] > tab[i-1]:\n",
    "        j = j+1\n",
    "    tab[i-1], tab[j] = tab[j], tab[i-1]\n",
    "    tab[i:10] = list(reversed(tab[i:10]))\n",
    "    count += 1\n",
    "tab\n",
    "    \n",
    "    "
   ]
  },
  {
   "cell_type": "markdown",
   "metadata": {},
   "source": [
    "### Problem 25\n",
    "\n",
    "The Fibonacci sequence is defined by the recurrence relation:\n",
    "    $ F_n = F_{n−1} + F_{n−2} $, where $F_1 = 1$ and $F_2 = 1$.\n",
    "\n",
    "Hence the first 12 terms will be:\n",
    "    $F_1 = 1$\n",
    "    $F_2 = 1$\n",
    "    $F_3 = 2$\n",
    "    $F_4 = 3$\n",
    "    $F_5 = 5$\n",
    "    $F_6 = 8$\n",
    "    $F_7 = 13$\n",
    "    $F_8 = 21$\n",
    "    $F_9 = 34$\n",
    "    $F_{10} = 55$\n",
    "    $F_{11} = 89$\n",
    "    $F_{12} = 144$\n",
    "\n",
    "The 12th term, $F_{12}$, is the first term to contain three digits.\n",
    "\n",
    "What is the index of the first term in the Fibonacci sequence to contain 1000 digits?\n"
   ]
  },
  {
   "cell_type": "code",
   "execution_count": 107,
   "metadata": {},
   "outputs": [
    {
     "data": {
      "text/plain": [
       "4782"
      ]
     },
     "execution_count": 107,
     "metadata": {},
     "output_type": "execute_result"
    }
   ],
   "source": [
    "a = 1\n",
    "b = 1\n",
    "count = 2\n",
    "while a//10**999 == 0:\n",
    "    a, b = a+b, a\n",
    "    count += 1\n",
    "count    "
   ]
  },
  {
   "cell_type": "markdown",
   "metadata": {},
   "source": [
    "### Problem 26\n",
    "\n",
    "A unit fraction contains 1 in the numerator. The decimal representation of the unit fractions with denominators 2 to 10 are given:\n",
    "    $\\frac{1}{2}\t= \t0.5$\n",
    "    $\\frac{1}{3}\t= \t0.(3)$\n",
    "    $\\frac{1}{4}\t= \t0.25$\n",
    "    $\\frac{1}{5}\t= \t0.2$\n",
    "    $\\frac{1}{6}\t= \t0.1(6)$\n",
    "    $\\frac{1}{7}\t= \t0.(142857)$\n",
    "    $\\frac{1}{8}\t= \t0.125$\n",
    "    $\\frac{1}{9}\t= \t0.(1)$\n",
    "    $\\frac{1}{10}\t= \t0.1$ \n",
    "\n",
    "Where 0.1(6) means 0.166666..., and has a 1-digit recurring cycle. It can be seen that $\\frac{1}{7}$ has a 6-digit recurring cycle.\n",
    "\n",
    "Find the value of d < 1000 for which $\\frac{1}{d}$ contains the longest recurring cycle in its decimal fraction part.\n"
   ]
  },
  {
   "cell_type": "code",
   "execution_count": 132,
   "metadata": {},
   "outputs": [
    {
     "data": {
      "text/plain": [
       "983"
      ]
     },
     "execution_count": 132,
     "metadata": {},
     "output_type": "execute_result"
    }
   ],
   "source": [
    "maks  = 0\n",
    "mem = 0\n",
    "for i in range(2, 1001):\n",
    "    k = 0\n",
    "    tab = []\n",
    "    t = 0\n",
    "    while t == 0:\n",
    "        tab.append((10**k) % i)\n",
    "        for j in range(k):\n",
    "            if tab[j] == tab[k]:\n",
    "                t = k - j\n",
    "                break\n",
    "        k = k+1\n",
    "    if t > maks:\n",
    "        maks = t\n",
    "        mem = i\n",
    "mem"
   ]
  },
  {
   "cell_type": "markdown",
   "metadata": {},
   "source": [
    "# Problem 27\n",
    "\n",
    "Euler discovered the remarkable quadratic formula:\n",
    "\n",
    "$n^2+n+41$\n",
    "\n",
    "It turns out that the formula will produce 40 primes for the consecutive integer values $0 \\leq n \\leq 39$. However, when n=40,$40^2+40+41=40(40+1)+41$ is divisible by 41, and certainly when n=41,41^2+41+41\n",
    "\n",
    "is clearly divisible by 41.\n",
    "\n",
    "The incredible formula $n^2−79n+1601$\n",
    "was discovered, which produces 80 primes for the consecutive values $0 \\leq n \\leq 79$. The product of the coefficients, −79 and 1601, is −126479.\n",
    "\n",
    "Considering quadratics of the form:\n",
    "\n",
    "   $n^2+an+b$\n",
    "\n",
    ", where $|a|<1000$ and $|b| \\leq 1000$\n",
    "\n",
    "where |n|\n",
    "is the modulus/absolute value of n\n",
    "e.g. |11|=11 and |−4|=4\n",
    "\n",
    "Find the product of the coefficients, a\n",
    "and b, for the quadratic expression that produces the maximum number of primes for consecutive values of n, starting with n=0."
   ]
  },
  {
   "cell_type": "code",
   "execution_count": 153,
   "metadata": {},
   "outputs": [
    {
     "data": {
      "text/plain": [
       "-59231"
      ]
     },
     "execution_count": 153,
     "metadata": {},
     "output_type": "execute_result"
    }
   ],
   "source": [
    "import math\n",
    "def isPrime (n):\n",
    "    for i in range(2, round(math.sqrt(n))+1):\n",
    "        if n%i==0:\n",
    "            return False\n",
    "    return True\n",
    "\n",
    "bestn, besta, bestb = 0, 0, 0\n",
    "for b in range(1001):\n",
    "    for a in range(1001):\n",
    "        n = 0\n",
    "        while n**2 + a*n + b > 1 and isPrime(n**2 + a*n + b):\n",
    "            n += 1\n",
    "        if n > bestn:\n",
    "            bestn = n\n",
    "            besta = a\n",
    "            bestb = b\n",
    "        n = 0\n",
    "        while n**2 - a*n + b > 1 and isPrime(n**2 - a*n + b):\n",
    "            n += 1\n",
    "        if n > bestn:\n",
    "            bestn = n\n",
    "            besta = -a\n",
    "            bestb = b\n",
    "besta*bestb\n",
    "        \n"
   ]
  },
  {
   "cell_type": "markdown",
   "metadata": {},
   "source": [
    "### Problem 28\n",
    "\n",
    "Starting with the number 1 and moving to the right in a clockwise direction a 5 by 5 spiral is formed as follows:\n",
    "\n",
    "21 22 23 24 25\n",
    "\n",
    "20  7  8  9 10\n",
    "\n",
    "19  6  1  2 11\n",
    "\n",
    "18  5  4  3 12\n",
    "\n",
    "17 16 15 14 13\n",
    "\n",
    "It can be verified that the sum of the numbers on the diagonals is 101.\n",
    "\n",
    "What is the sum of the numbers on the diagonals in a 1001 by 1001 spiral formed in the same way?\n"
   ]
  },
  {
   "cell_type": "code",
   "execution_count": 156,
   "metadata": {},
   "outputs": [
    {
     "data": {
      "text/plain": [
       "669171001"
      ]
     },
     "execution_count": 156,
     "metadata": {},
     "output_type": "execute_result"
    }
   ],
   "source": [
    "n = 1\n",
    "k = 2\n",
    "t = 1\n",
    "for i in range(500):\n",
    "    for i in range(4):\n",
    "        t += k\n",
    "        n += t\n",
    "    k += 2\n",
    "n"
   ]
  },
  {
   "cell_type": "markdown",
   "metadata": {},
   "source": [
    "### Problem 29\n",
    "Consider all integer combinations of $a^b$ for 2 ≤ a ≤ 5 and 2 ≤ b ≤ 5:\n",
    "\n",
    "   $2^2$=4, $2^3$=8, $2^4$=16, $2^5$=32\n",
    "   $3^2$=9, $3^3$=27, $3^4$=81, $3^5$=243\n",
    "   $4^2$=16, $4^3$=64, $4^4$=256, $4^5$=1024\n",
    "   $5^2$=25, $5^3$=125, $5^4$=625, $5^5$=3125\n",
    "\n",
    "If they are then placed in numerical order, with any repeats removed, we get the following sequence of 15 distinct terms:\n",
    "\n",
    "4, 8, 9, 16, 25, 27, 32, 64, 81, 125, 243, 256, 625, 1024, 3125\n",
    "\n",
    "How many distinct terms are in the sequence generated by ab for 2 ≤ a ≤ 100 and 2 ≤ b ≤ 100?\n"
   ]
  },
  {
   "cell_type": "code",
   "execution_count": 157,
   "metadata": {},
   "outputs": [
    {
     "data": {
      "text/plain": [
       "9183"
      ]
     },
     "execution_count": 157,
     "metadata": {},
     "output_type": "execute_result"
    }
   ],
   "source": [
    "sol = set()\n",
    "for i in range(2, 101):\n",
    "    for j in range(2, 101):\n",
    "        sol.add(i**j)\n",
    "len(sol)"
   ]
  },
  {
   "cell_type": "markdown",
   "metadata": {},
   "source": [
    "### Problem 30\n",
    "\n",
    "Surprisingly there are only three numbers that can be written as the sum of fourth powers of their digits:\n",
    "\n",
    "   $1634 = 1^4 + 6^4 + 3^4 + 4^4$\n",
    "   \n",
    "   $8208 = 8^4 + 2^4 + 0^4 + 8^4$\n",
    "   \n",
    "   $9474 = 9^4 + 4^4 + 7^4 + 4^4$\n",
    "\n",
    "As 1 = $1^4$ is not a sum it is not included.\n",
    "\n",
    "The sum of these numbers is 1634 + 8208 + 9474 = 19316.\n",
    "\n",
    "Find the sum of all the numbers that can be written as the sum of fifth powers of their digits.\n"
   ]
  },
  {
   "cell_type": "code",
   "execution_count": 162,
   "metadata": {},
   "outputs": [
    {
     "data": {
      "text/plain": [
       "443839"
      ]
     },
     "execution_count": 162,
     "metadata": {},
     "output_type": "execute_result"
    }
   ],
   "source": [
    "lista = list()\n",
    "for i in range(10, 300000):\n",
    "    suma = 0\n",
    "    j = i\n",
    "    while j > 0:\n",
    "        suma += (j%10)**5\n",
    "        j = j//10\n",
    "    if suma == i:\n",
    "        lista.append(i)\n",
    "sum(lista)"
   ]
  },
  {
   "cell_type": "markdown",
   "metadata": {},
   "source": [
    "### Problem 31\n",
    "\n",
    "In England the currency is made up of pound, £, and pence, p, and there are eight coins in general circulation:\n",
    "\n",
    "    1p, 2p, 5p, 10p, 20p, 50p, £1 (100p) and £2 (200p).\n",
    "\n",
    "It is possible to make £2 in the following way:\n",
    "\n",
    "    1×£1 + 1×50p + 2×20p + 1×5p + 1×2p + 3×1p\n",
    "\n",
    "How many different ways can £2 be made using any number of coins?\n"
   ]
  },
  {
   "cell_type": "code",
   "execution_count": 179,
   "metadata": {},
   "outputs": [
    {
     "data": {
      "text/plain": [
       "73682"
      ]
     },
     "execution_count": 179,
     "metadata": {},
     "output_type": "execute_result"
    }
   ],
   "source": [
    "res = 0\n",
    "n = 200\n",
    "for a in range(n//200+1):\n",
    "    for b in range((n-a*200)//100+1):\n",
    "        for c in range((n-a*200-b*100)//50+1):\n",
    "            for d in range((n-a*200-b*100-c*50)//20+1):\n",
    "                for e in range((n-a*200-b*100-c*50-d*20)//10+1):\n",
    "                    for f in range((n-a*200-b*100-c*50-d*20-e*10)//5+1):\n",
    "                        for g in range((n-a*200-b*100-c*50-d*20-e*10-f*5)//2+1):\n",
    "                            for h in range((n-a*200-b*100-c*50-d*20-e*10-f*5-g*2)+1): \n",
    "                                if a*200 + b * 100 + c * 50 + d * 20 + e*10 + f*5 + g*2 + h == n:\n",
    "                                    res += 1\n",
    "res\n"
   ]
  },
  {
   "cell_type": "markdown",
   "metadata": {},
   "source": [
    "### Problem 32\n",
    "\n",
    "We shall say that an n-digit number is pandigital if it makes use of all the digits 1 to n exactly once; for example, the 5-digit number, 15234, is 1 through 5 pandigital.\n",
    "\n",
    "The product 7254 is unusual, as the identity, 39 × 186 = 7254, containing multiplicand, multiplier, and product is 1 through 9 pandigital.\n",
    "\n",
    "Find the sum of all products whose multiplicand/multiplier/product identity can be written as a 1 through 9 pandigital."
   ]
  },
  {
   "cell_type": "code",
   "execution_count": 31,
   "metadata": {},
   "outputs": [
    {
     "data": {
      "text/plain": [
       "45228"
      ]
     },
     "execution_count": 31,
     "metadata": {},
     "output_type": "execute_result"
    }
   ],
   "source": [
    "import math\n",
    "products = set()\n",
    "suma = 0\n",
    "for a in range(2,10):\n",
    "    for b in range(1023,math.ceil(9877/a)):\n",
    "        c = a*b\n",
    "        d = a+b*10+c*10**5\n",
    "        tab = [False]*10\n",
    "        while(d != 0):\n",
    "            tab[d%10] = True\n",
    "            d //= 10\n",
    "        if (all(tab[1:])):\n",
    "            products.add(c)\n",
    "for a in range(10, 99):\n",
    "    for b in range(102,math.ceil(9877/a)):\n",
    "        c = a*b\n",
    "        d = a+b*10**2+c*10**5\n",
    "        tab = [False]*10\n",
    "        while(d != 0):\n",
    "            tab[d%10] = True\n",
    "            d //= 10\n",
    "        if (all(tab[1:])):\n",
    "            products.add(c)\n",
    "sum(products)"
   ]
  },
  {
   "cell_type": "markdown",
   "metadata": {},
   "source": [
    "### Problem 33\n",
    "\n",
    "The fraction $\\frac{49}{98}$ is a curious fraction, as an inexperienced mathematician in attempting to simplify it may incorrectly believe that $\\frac{49}{98} = \\frac{4}{8}$, which is correct, is obtained by cancelling the $9$s.\n",
    "\n",
    "We shall consider fractions like, $\\frac{30}{50} = \\frac{3}{5}$, to be trivial examples.\n",
    "\n",
    "There are exactly four non-trivial examples of this type of fraction, less than one in value, and containing two digits in the numerator and denominator.\n",
    "\n",
    "If the product of these four fractions is given in its lowest common terms, find the value of the denominator.\n"
   ]
  },
  {
   "cell_type": "code",
   "execution_count": 43,
   "metadata": {},
   "outputs": [
    {
     "data": {
      "text/plain": [
       "100.0"
      ]
     },
     "execution_count": 43,
     "metadata": {},
     "output_type": "execute_result"
    }
   ],
   "source": [
    "uamki = list()\n",
    "for a in range(10, 100):\n",
    "    for b in range(10, a):\n",
    "        if a//10 == b%10 and a%10 != 0 and b/a == (b//10)/(a%10):\n",
    "            uamki.append((a,b))\n",
    "numerator = 1\n",
    "denominator = 1\n",
    "for i in uamki:\n",
    "    numerator *= i[1]\n",
    "    denominator *= i[0]\n",
    "denominator/math.gcd(numerator, denominator)"
   ]
  },
  {
   "cell_type": "markdown",
   "metadata": {},
   "source": [
    "### Problem 34\n",
    "\n",
    "145 is a curious number, as $1! + 4! + 5! = 1 + 24 + 120 = 145$.\n",
    "\n",
    "Find the sum of all numbers which are equal to the sum of the factorial of their digits.\n",
    "\n",
    "Note: as $1! = 1$ and $2! = 2$ are not sums they are not included.\n"
   ]
  },
  {
   "cell_type": "code",
   "execution_count": 53,
   "metadata": {},
   "outputs": [
    {
     "data": {
      "text/plain": [
       "40730"
      ]
     },
     "execution_count": 53,
     "metadata": {},
     "output_type": "execute_result"
    }
   ],
   "source": [
    "wynik = 0\n",
    "factorials = [1]*10\n",
    "for i in range(1, 10):\n",
    "    factorials[i] = factorials[i-1]*i\n",
    "for i in range(10, 10000000):\n",
    "    n = i\n",
    "    suma = 0\n",
    "    while (n!=0):\n",
    "        suma += factorials[n%10]\n",
    "        n = n//10\n",
    "    if suma == i:\n",
    "        wynik += i\n",
    "wynik"
   ]
  },
  {
   "cell_type": "markdown",
   "metadata": {},
   "source": [
    "### Problem 35\n",
    "\n",
    "The number, 197, is called a circular prime because all rotations of the digits: 197, 971, and 719, are themselves prime.\n",
    "\n",
    "There are thirteen such primes below 100: 2, 3, 5, 7, 11, 13, 17, 31, 37, 71, 73, 79, and 97.\n",
    "\n",
    "How many circular primes are there below one million?\n"
   ]
  },
  {
   "cell_type": "code",
   "execution_count": 90,
   "metadata": {},
   "outputs": [
    {
     "data": {
      "text/plain": [
       "55"
      ]
     },
     "execution_count": 90,
     "metadata": {},
     "output_type": "execute_result"
    }
   ],
   "source": [
    "def iscomplex(n):\n",
    "    for i in range(2, math.ceil(math.sqrt(n))+1):\n",
    "        if n%i == 0:\n",
    "            return True\n",
    "    return False\n",
    "\n",
    "wynik = 1\n",
    "lista = list()\n",
    "for n in range(3, 10**6):\n",
    "    add = 1\n",
    "    cyfry = list()\n",
    "    while (n!= 0):\n",
    "        cyfry.append(n%10)\n",
    "        n //= 10\n",
    "    for i in range(len(cyfry)):\n",
    "        cyfry = [cyfry[(l-1)%len(cyfry)] for l in range(len(cyfry))]\n",
    "        k = [10**i for i in range(len(cyfry))]\n",
    "        if iscomplex(sum([cyfry[i]*k[i] for i in range(len(cyfry))])):\n",
    "            add = 0\n",
    "            break\n",
    "    wynik += add\n",
    "wynik"
   ]
  },
  {
   "cell_type": "markdown",
   "metadata": {},
   "source": [
    "### Problem 36\n",
    "\n",
    "The decimal number, $585 = 1001001001_2$ (binary), is palindromic in both bases.\n",
    "\n",
    "Find the sum of all numbers, less than one million, which are palindromic in base 10 and base 2.\n",
    "\n",
    "(Please note that the palindromic number, in either base, may not include leading zeros.)\n"
   ]
  },
  {
   "cell_type": "code",
   "execution_count": 125,
   "metadata": {},
   "outputs": [
    {
     "data": {
      "text/plain": [
       "872187"
      ]
     },
     "execution_count": 125,
     "metadata": {},
     "output_type": "execute_result"
    }
   ],
   "source": [
    "def dec2bin(n):\n",
    "    k = 0\n",
    "    while (2**k <= n):\n",
    "        k+=1\n",
    "    binar = [0]*k\n",
    "    while k > 0:\n",
    "        if 2**(k-1) <= n:\n",
    "            binar[k-1] = 1\n",
    "            n -= 2**(k-1)\n",
    "        k-=1\n",
    "    return binar\n",
    "suma = 0\n",
    "for n in range(1, 10**6, 2):\n",
    "    k = n\n",
    "    cyfry = list()\n",
    "    while (k != 0):\n",
    "        cyfry.append(k%10)\n",
    "        k //= 10\n",
    "    if cyfry == cyfry[::-1]:\n",
    "        binar = dec2bin(n)\n",
    "        if binar == binar[::-1]:\n",
    "            suma += n\n",
    "suma"
   ]
  },
  {
   "cell_type": "markdown",
   "metadata": {},
   "source": [
    "### Problem 37\n",
    "\n",
    "The number 3797 has an interesting property. Being prime itself, it is possible to continuously remove digits from left to right, and remain prime at each stage: 3797, 797, 97, and 7. Similarly we can work from right to left: 3797, 379, 37, and 3.\n",
    "\n",
    "Find the sum of the only eleven primes that are both truncatable from left to right and right to left.\n",
    "\n",
    "NOTE: 2, 3, 5, and 7 are not considered to be truncatable primes.\n"
   ]
  },
  {
   "cell_type": "code",
   "execution_count": 140,
   "metadata": {},
   "outputs": [
    {
     "data": {
      "text/plain": [
       "748317"
      ]
     },
     "execution_count": 140,
     "metadata": {},
     "output_type": "execute_result"
    }
   ],
   "source": [
    "def isprime(n):\n",
    "    if n < 2:\n",
    "        return False\n",
    "    if n == 2:\n",
    "        return True\n",
    "    for i in range(2, math.ceil(math.sqrt(n))+1):\n",
    "        if n%i == 0:\n",
    "            return False\n",
    "    return True\n",
    "\n",
    "n = 11\n",
    "counter = 0\n",
    "suma = 0\n",
    "lista = list()\n",
    "while counter < 11:\n",
    "    k = n\n",
    "    czy = True\n",
    "    cyfry = 0\n",
    "    while k > 0 and czy:\n",
    "        if isprime(k) == False:\n",
    "            czy = False\n",
    "        k //= 10\n",
    "        cyfry += 1\n",
    "    if czy:\n",
    "        k = n\n",
    "        while k > 0 and czy:\n",
    "            if isprime(k) == False:\n",
    "                czy = False\n",
    "            k = k%(10**(cyfry-1))\n",
    "            cyfry -= 1\n",
    "    \n",
    "    if czy:\n",
    "        counter += 1\n",
    "        suma += n\n",
    "        lista.append(n)\n",
    "    n += 1\n",
    "suma"
   ]
  },
  {
   "cell_type": "markdown",
   "metadata": {},
   "source": [
    "### Problem 38\n",
    "\n",
    "Take the number 192 and multiply it by each of 1, 2, and 3:\n",
    "\n",
    "    192 × 1 = 192\n",
    "    192 × 2 = 384\n",
    "    192 × 3 = 576\n",
    "\n",
    "By concatenating each product we get the 1 to 9 pandigital, 192384576. We will call 192384576 the concatenated product of 192 and (1,2,3)\n",
    "\n",
    "The same can be achieved by starting with 9 and multiplying by 1, 2, 3, 4, and 5, giving the pandigital, 918273645, which is the concatenated product of 9 and (1,2,3,4,5).\n",
    "\n",
    "What is the largest 1 to 9 pandigital 9-digit number that can be formed as the concatenated product of an integer with (1,2, ... , n) where n > 1?\n"
   ]
  },
  {
   "cell_type": "code",
   "execution_count": 174,
   "metadata": {},
   "outputs": [
    {
     "data": {
      "text/plain": [
       "932718654"
      ]
     },
     "execution_count": 174,
     "metadata": {},
     "output_type": "execute_result"
    }
   ],
   "source": [
    "maks = 0\n",
    "for i in range(1, 10**4):\n",
    "    tab = [False]*10\n",
    "    num = [0]*9\n",
    "    k, n = 0, 9\n",
    "    while n > 0:\n",
    "        k += i\n",
    "        l = k\n",
    "        while l > 0 and n > 0:\n",
    "            tab[l%10] = True\n",
    "            l //= 10\n",
    "            n -= 1\n",
    "        if l == 0:\n",
    "            num[8-n] = k\n",
    "        else: \n",
    "            tab = [False]*10\n",
    "    if all(tab[1:]):\n",
    "        k = [10**(8-i) for i in range(len(num))]        \n",
    "        maks = max(maks, sum(num[i]*k[i] for i in range(len(num))))\n",
    "maks"
   ]
  },
  {
   "cell_type": "markdown",
   "metadata": {},
   "source": [
    "### Problem 39\n",
    "\n",
    "If p is the perimeter of a right angle triangle with integral length sides, {a,b,c}, there are exactly three solutions for p = 120.\n",
    "\n",
    "{20,48,52}, {24,45,51}, {30,40,50}\n",
    "\n",
    "For which value of p ≤ 1000, is the number of solutions maximised?\n"
   ]
  },
  {
   "cell_type": "code",
   "execution_count": 184,
   "metadata": {
    "scrolled": true
   },
   "outputs": [
    {
     "data": {
      "text/plain": [
       "840"
      ]
     },
     "execution_count": 184,
     "metadata": {},
     "output_type": "execute_result"
    }
   ],
   "source": [
    "maks = 0\n",
    "wynik = 0\n",
    "for p in range(12, 1001):\n",
    "    solus = 0\n",
    "    for c in range(math.floor(p/3)+1, math.ceil(p/2)):\n",
    "        for b in range(c, math.ceil((p-c)/2), -1):\n",
    "                if (p-c-b)**2 + b**2 == c**2:\n",
    "                    solus += 1\n",
    "                    break\n",
    "    if solus > maks:\n",
    "        maks = solus\n",
    "        wynik = p\n",
    "wynik"
   ]
  },
  {
   "cell_type": "markdown",
   "metadata": {},
   "source": [
    "### Problem 40\n",
    "\n",
    "An irrational decimal fraction is created by concatenating the positive integers:\n",
    "\n",
    "0.123456789101112131415161718192021...\n",
    "\n",
    "It can be seen that the $12^{th}$ digit of the fractional part is 1.\n",
    "\n",
    "If $d_n$ represents the $n^{th}$ digit of the fractional part, find the value of the following expression.\n",
    "\n",
    "$d_1 × d_{10} × d_{100} × d_{1000} × d_{10000} × d_{100000} × d_{1000000}$\n"
   ]
  },
  {
   "cell_type": "code",
   "execution_count": 205,
   "metadata": {},
   "outputs": [
    {
     "data": {
      "text/plain": [
       "210"
      ]
     },
     "execution_count": 205,
     "metadata": {},
     "output_type": "execute_result"
    }
   ],
   "source": [
    "lista = list()\n",
    "k = 1\n",
    "while len(lista) < 10**6:\n",
    "    cyfry = list()\n",
    "    l = k\n",
    "    while l > 0:\n",
    "        cyfry.append(l%10)\n",
    "        l //= 10\n",
    "    lista.extend(cyfry[::-1])\n",
    "    k += 1\n",
    "lista[1-1]*lista[10-1]*lista[10**2-1]*lista[10**3-1]*lista[10**4-1]*lista[10**5-1]*lista[10**6-1]"
   ]
  }
 ],
 "metadata": {
  "kernelspec": {
   "display_name": "Python 3",
   "language": "python",
   "name": "python3"
  },
  "language_info": {
   "codemirror_mode": {
    "name": "ipython",
    "version": 3
   },
   "file_extension": ".py",
   "mimetype": "text/x-python",
   "name": "python",
   "nbconvert_exporter": "python",
   "pygments_lexer": "ipython3",
   "version": "3.6.3"
  }
 },
 "nbformat": 4,
 "nbformat_minor": 2
}
